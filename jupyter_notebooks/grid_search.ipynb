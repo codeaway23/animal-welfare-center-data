{
 "cells": [
  {
   "cell_type": "code",
   "execution_count": 1,
   "metadata": {},
   "outputs": [],
   "source": [
    "# import required packages\n",
    "\n",
    "import pickle\n",
    "import pandas as pd\n",
    "import numpy as np\n",
    "\n",
    "from sklearn.model_selection import GridSearchCV\n",
    "from sklearn.model_selection import train_test_split\n",
    "from sklearn.preprocessing import StandardScaler\n",
    "\n",
    "from sklearn.svm import SVC\n",
    "from sklearn.ensemble import RandomForestClassifier\n",
    "from sklearn.ensemble import GradientBoostingClassifier\n",
    "from sklearn.neural_network import MLPClassifier\n",
    "\n",
    "from xgboost.sklearn import XGBClassifier"
   ]
  },
  {
   "cell_type": "code",
   "execution_count": 2,
   "metadata": {},
   "outputs": [],
   "source": [
    "def grid_search(X, y, models, params, cv=3):\n",
    "    \n",
    "    \"\"\"\n",
    "    Perform GridSearchCV for a list of classifiers and \n",
    "    save the results in a dictionary.\n",
    "    \n",
    "    inputs:\n",
    "        X: input training data\n",
    "        y: target values\n",
    "        models: dictionary of classifiers\n",
    "        params: a nested dictionary of parameters to vary in\n",
    "            grid search for each classifier\n",
    "        cv: cross validation parameter\n",
    "\n",
    "    returns: \n",
    "        gsdict: trained grid search model results dictionary    \n",
    "    \"\"\"\n",
    "    \n",
    "    gsdict = {}\n",
    "    keys = list(models.keys())\n",
    "    \n",
    "    for k in keys:\n",
    "        \n",
    "        print(\"running grid search for {}\".format(k))\n",
    "        \n",
    "        gs = GridSearchCV(models[k], \n",
    "                          params[k], \n",
    "                          cv=cv, \n",
    "                          scoring='f1_micro', \n",
    "                          verbose=1,\n",
    "                          n_jobs=3,\n",
    "                          return_train_score=True, \n",
    "                          refit=False)\n",
    "        \n",
    "        gs.fit(X,y)\n",
    "        gsdict[k] = gs\n",
    "\n",
    "    return gsdict"
   ]
  },
  {
   "cell_type": "code",
   "execution_count": 3,
   "metadata": {},
   "outputs": [],
   "source": [
    "def score_df(gsdict):\n",
    "    \n",
    "    \"\"\"\n",
    "    extracting scores for different classifiers, their \n",
    "    hyperparameters and their f1_micro scores and saving\n",
    "    them as a dataframe\n",
    "    \n",
    "    inputs:\n",
    "        gsdict: trained grid search model results dictionary\n",
    "            (output of the grid_search function)\n",
    "    \n",
    "    returns:\n",
    "        df: dataframe with model index, model names, their \n",
    "            hyperparameters and their f1_scores       \n",
    "    \"\"\"\n",
    "    \n",
    "    scores = {}\n",
    "    params = {}\n",
    "    \n",
    "    df = pd.DataFrame(columns=['key', 'params', 'f1_score'])\n",
    "    \n",
    "    keys = list(gsdict.keys())\n",
    "    \n",
    "    for k in keys:\n",
    "\n",
    "        params[k] = gsdict[k].cv_results_['params']\n",
    "        scores[k] = []\n",
    "        \n",
    "        for i in range(gsdict[k].cv):\n",
    "            scores[k].append(gsdict[k].cv_results_['split{}_test_score'.format(i)])\n",
    "        \n",
    "        scores[k] = np.mean(np.array(scores[k]), axis=0)\n",
    "        \n",
    "        for i,p in enumerate(params[k]):\n",
    "            df = df.append({'key':k, \n",
    "                            'params':p, \n",
    "                            'f1_score':scores[k][i]}, \n",
    "                           ignore_index=True)\n",
    "    \n",
    "    return df"
   ]
  },
  {
   "cell_type": "code",
   "execution_count": 4,
   "metadata": {},
   "outputs": [
    {
     "name": "stderr",
     "output_type": "stream",
     "text": [
      "/home/anujsable/anaconda3/lib/python3.7/site-packages/sklearn/preprocessing/data.py:625: DataConversionWarning: Data with input dtype int64, float64 were all converted to float64 by StandardScaler.\n",
      "  return self.partial_fit(X, y)\n",
      "/home/anujsable/anaconda3/lib/python3.7/site-packages/sklearn/base.py:462: DataConversionWarning: Data with input dtype int64, float64 were all converted to float64 by StandardScaler.\n",
      "  return self.fit(X, **fit_params).transform(X)\n"
     ]
    }
   ],
   "source": [
    "# preparing data for training\n",
    "\n",
    "train_data = pd.read_csv('../processed/train_data.csv')\n",
    "ids = train_data['animal_id_outcome']\n",
    "y = train_data['Label']\n",
    "X = train_data.drop(['Label','animal_id_outcome'], axis=1)\n",
    "\n",
    "scaler = StandardScaler()\n",
    "X = scaler.fit_transform(X)"
   ]
  },
  {
   "cell_type": "code",
   "execution_count": null,
   "metadata": {},
   "outputs": [],
   "source": [
    "# using top 5 models as found from train_default.py\n",
    "\n",
    "models = {\n",
    "    'GradientBoostingClassifier': GradientBoostingClassifier(),\n",
    "    'RandomForestClassifier': RandomForestClassifier(),\n",
    "    'XGBClassifier': XGBClassifier(),\n",
    "    'MLPClassifier': MLPClassifier(),\n",
    "    'SVC': SVC()\n",
    "}"
   ]
  },
  {
   "cell_type": "code",
   "execution_count": null,
   "metadata": {},
   "outputs": [],
   "source": [
    "# hyper-parameters to tune for all models\n",
    "\n",
    "estim = [25, 50, 100, 200, 1000]\n",
    "lr = [0.01, 0.1, 1.0]\n",
    "max_depth = [2, 3, 4]\n",
    "hidden_layers = [(8,), (16,), (32,), (64,), (128,)]\n",
    "act = ['relu', 'tanh']\n",
    "crit = ['gini', 'entropy']\n",
    "C = [1, 5, 10]\n",
    "gamma = [0.01, 0.001, 0.0001]\n",
    "\n",
    "params = {\n",
    "    'GradientBoostingClassifier': { 'n_estimators': estim, 'learning_rate': lr, 'max_depth': max_depth  },\n",
    "    'RandomForestClassifier': {'criterion': crit, 'n_estimators': estim , 'max_depth': max_depth },\n",
    "    'XGBClassifier': { 'n_estimators': estim, 'learning_rate': lr , 'max_depth': max_depth },\n",
    "    'MLPClassifier': { 'activation': act, 'hidden_layer_sizes': hidden_layers },\n",
    "    'SVC': {'C': C, 'gamma': gamma}\n",
    "}"
   ]
  },
  {
   "cell_type": "code",
   "execution_count": null,
   "metadata": {},
   "outputs": [
    {
     "name": "stdout",
     "output_type": "stream",
     "text": [
      "running grid search for GradientBoostingClassifier\n",
      "Fitting 3 folds for each of 45 candidates, totalling 135 fits\n"
     ]
    },
    {
     "name": "stderr",
     "output_type": "stream",
     "text": [
      "[Parallel(n_jobs=1)]: Using backend SequentialBackend with 1 concurrent workers.\n"
     ]
    }
   ],
   "source": [
    "# running grid search\n",
    "gsdict = grid_search(X, y, models, params)\n",
    "\n",
    "# getting scores of all trained models\n",
    "scores = score_df(gsdict)\n",
    "\n",
    "# sorting the models by scores\n",
    "scores.sort_values(by='f1_score', ascending=False, inplace=True)\n",
    "\n",
    "print(scores)\n",
    "\n",
    "# pickle all grid search results\n",
    "with open('../logs/grid_search.pkl','wb') as f:\n",
    "    pickle.dump(gsdict, f)\n",
    "\n",
    "# save scores dataframe to a csv file\n",
    "scores.to_csv('../logs/grid_search_scores.csv', index=False)"
   ]
  }
 ],
 "metadata": {
  "kernelspec": {
   "display_name": "Python 3",
   "language": "python",
   "name": "python3"
  },
  "language_info": {
   "codemirror_mode": {
    "name": "ipython",
    "version": 3
   },
   "file_extension": ".py",
   "mimetype": "text/x-python",
   "name": "python",
   "nbconvert_exporter": "python",
   "pygments_lexer": "ipython3",
   "version": "3.7.3"
  }
 },
 "nbformat": 4,
 "nbformat_minor": 2
}
