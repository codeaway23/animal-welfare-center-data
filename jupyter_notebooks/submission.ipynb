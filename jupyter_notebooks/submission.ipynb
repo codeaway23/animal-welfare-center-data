{
 "cells": [
  {
   "cell_type": "code",
   "execution_count": 1,
   "metadata": {},
   "outputs": [],
   "source": [
    "# importing required packages\n",
    "\n",
    "import pickle\n",
    "import pandas as pd\n",
    "import numpy as np\n",
    "\n",
    "from sklearn.metrics import f1_score\n",
    "from sklearn.model_selection import GridSearchCV\n",
    "from sklearn.model_selection import train_test_split\n",
    "from sklearn.preprocessing import StandardScaler\n",
    "\n",
    "from sklearn.ensemble import GradientBoostingClassifier\n",
    "from xgboost.sklearn import XGBClassifier"
   ]
  },
  {
   "cell_type": "code",
   "execution_count": null,
   "metadata": {},
   "outputs": [
    {
     "name": "stderr",
     "output_type": "stream",
     "text": [
      "/home/anujsable/anaconda3/lib/python3.7/site-packages/sklearn/preprocessing/data.py:625: DataConversionWarning: Data with input dtype int64, float64 were all converted to float64 by StandardScaler.\n",
      "  return self.partial_fit(X, y)\n",
      "/home/anujsable/anaconda3/lib/python3.7/site-packages/sklearn/base.py:462: DataConversionWarning: Data with input dtype int64, float64 were all converted to float64 by StandardScaler.\n",
      "  return self.fit(X, **fit_params).transform(X)\n",
      "/home/anujsable/anaconda3/lib/python3.7/site-packages/ipykernel_launcher.py:15: DataConversionWarning: Data with input dtype int64, float64 were all converted to float64 by StandardScaler.\n",
      "  from ipykernel import kernelapp as app\n"
     ]
    }
   ],
   "source": [
    "# preparing data for training\n",
    "\n",
    "train_data = pd.read_csv('../processed/train_data.csv')\n",
    "train_ids = train_data['animal_id_outcome']\n",
    "y = train_data['Label']\n",
    "X = train_data.drop(['Label','animal_id_outcome'], axis=1)\n",
    "\n",
    "test_data = pd.read_csv('../processed/test_data.csv')\n",
    "test_ids = test_data['animal_id_outcome']\n",
    "\n",
    "X_test = test_data.drop('animal_id_outcome', axis=1)\n",
    "\n",
    "scaler = StandardScaler()\n",
    "X = scaler.fit_transform(X)\n",
    "X_test = scaler.transform(X_test)"
   ]
  },
  {
   "cell_type": "code",
   "execution_count": null,
   "metadata": {},
   "outputs": [],
   "source": [
    "## best classifier found from train_default.py + grid_search.py\n",
    "model = XGBClassifier(n_estimators=100, learning_rate=0.1, max_depth=3)\n",
    "\n",
    "## fit model on training data and make predictions on test data\n",
    "model.fit(X, y)\n",
    "y_pred = model.predict(X_test)\n",
    "\n",
    "# load encoding dictionary from its pickle file\n",
    "with open('../logs/encoding.pkl', 'rb') as f:\n",
    "    enc = pickle.load(f)\n",
    "enc = {v: k for k, v in enc.items()}\n",
    "\n",
    "# generate a dataframe of prediction values in the format required\n",
    "final = [enc[x] for x in y_pred]\n",
    "\n",
    "submit = pd.DataFrame(\n",
    "    {'animal_id_outcome': test_ids,\n",
    "    'outcome_type': final}\n",
    "    )\n",
    "\n",
    "# save submission dataframe to a csv file\n",
    "submit.to_csv('../processed/final_submission.csv', index=False)"
   ]
  }
 ],
 "metadata": {
  "kernelspec": {
   "display_name": "Python 3",
   "language": "python",
   "name": "python3"
  },
  "language_info": {
   "codemirror_mode": {
    "name": "ipython",
    "version": 3
   },
   "file_extension": ".py",
   "mimetype": "text/x-python",
   "name": "python",
   "nbconvert_exporter": "python",
   "pygments_lexer": "ipython3",
   "version": "3.7.3"
  }
 },
 "nbformat": 4,
 "nbformat_minor": 2
}
